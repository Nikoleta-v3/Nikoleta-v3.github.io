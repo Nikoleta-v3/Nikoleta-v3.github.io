{
 "cells": [
  {
   "cell_type": "code",
   "execution_count": 1,
   "metadata": {},
   "outputs": [],
   "source": [
    "import pandas as pd\n",
    "\n",
    "import numpy as np"
   ]
  },
  {
   "cell_type": "code",
   "execution_count": 2,
   "metadata": {},
   "outputs": [],
   "source": [
    "import matplotlib.pyplot as plt\n",
    "import gender_guesser.detector as gender\n",
    "import matplotlib\n",
    "\n",
    "%matplotlib inline"
   ]
  },
  {
   "cell_type": "code",
   "execution_count": 3,
   "metadata": {},
   "outputs": [],
   "source": [
    "df = pd.read_csv('WiM_data/publications_in_psychology.csv')"
   ]
  },
  {
   "cell_type": "code",
   "execution_count": 4,
   "metadata": {},
   "outputs": [],
   "source": [
    "d = gender.Detector(case_sensitive=False)"
   ]
  },
  {
   "cell_type": "code",
   "execution_count": 5,
   "metadata": {},
   "outputs": [],
   "source": [
    "def get_gender_of_author(row):\n",
    "    if row['source'] == 'Springer':\n",
    "        return d.get_gender(row['author'].split(' ')[-1])\n",
    "    return d.get_gender(row['author'].split(' ')[0])"
   ]
  },
  {
   "cell_type": "code",
   "execution_count": 6,
   "metadata": {},
   "outputs": [],
   "source": [
    "df[\"gender\"] = df.apply(\n",
    "    get_gender_of_author, axis=1\n",
    ")"
   ]
  },
  {
   "cell_type": "code",
   "execution_count": 7,
   "metadata": {},
   "outputs": [
    {
     "data": {
      "text/plain": [
       "10169"
      ]
     },
     "execution_count": 7,
     "metadata": {},
     "output_type": "execute_result"
    }
   ],
   "source": [
    "len(df.unique_key.unique())"
   ]
  },
  {
   "cell_type": "code",
   "execution_count": 8,
   "metadata": {},
   "outputs": [
    {
     "data": {
      "text/plain": [
       "23740"
      ]
     },
     "execution_count": 8,
     "metadata": {},
     "output_type": "execute_result"
    }
   ],
   "source": [
    "len(df.author.unique())"
   ]
  },
  {
   "cell_type": "code",
   "execution_count": 9,
   "metadata": {},
   "outputs": [],
   "source": [
    "gender = df[['author', 'gender']].drop_duplicates()"
   ]
  },
  {
   "cell_type": "code",
   "execution_count": 10,
   "metadata": {},
   "outputs": [
    {
     "data": {
      "text/html": [
       "<div>\n",
       "<style scoped>\n",
       "    .dataframe tbody tr th:only-of-type {\n",
       "        vertical-align: middle;\n",
       "    }\n",
       "\n",
       "    .dataframe tbody tr th {\n",
       "        vertical-align: top;\n",
       "    }\n",
       "\n",
       "    .dataframe thead th {\n",
       "        text-align: right;\n",
       "    }\n",
       "</style>\n",
       "<table border=\"1\" class=\"dataframe\">\n",
       "  <thead>\n",
       "    <tr style=\"text-align: right;\">\n",
       "      <th></th>\n",
       "      <th>author</th>\n",
       "    </tr>\n",
       "    <tr>\n",
       "      <th>gender</th>\n",
       "      <th></th>\n",
       "    </tr>\n",
       "  </thead>\n",
       "  <tbody>\n",
       "    <tr>\n",
       "      <th>mostly_male</th>\n",
       "      <td>288</td>\n",
       "    </tr>\n",
       "    <tr>\n",
       "      <th>mostly_female</th>\n",
       "      <td>404</td>\n",
       "    </tr>\n",
       "    <tr>\n",
       "      <th>andy</th>\n",
       "      <td>1117</td>\n",
       "    </tr>\n",
       "    <tr>\n",
       "      <th>male</th>\n",
       "      <td>5108</td>\n",
       "    </tr>\n",
       "    <tr>\n",
       "      <th>female</th>\n",
       "      <td>6626</td>\n",
       "    </tr>\n",
       "    <tr>\n",
       "      <th>unknown</th>\n",
       "      <td>10197</td>\n",
       "    </tr>\n",
       "  </tbody>\n",
       "</table>\n",
       "</div>"
      ],
      "text/plain": [
       "               author\n",
       "gender               \n",
       "mostly_male       288\n",
       "mostly_female     404\n",
       "andy             1117\n",
       "male             5108\n",
       "female           6626\n",
       "unknown         10197"
      ]
     },
     "execution_count": 10,
     "metadata": {},
     "output_type": "execute_result"
    }
   ],
   "source": [
    "pd.DataFrame(gender.groupby(\"gender\").count()['author'].sort_values())"
   ]
  },
  {
   "cell_type": "code",
   "execution_count": 11,
   "metadata": {},
   "outputs": [],
   "source": [
    "num_authors = pd.DataFrame(df.groupby(['unique_key', 'author'], as_index=False\n",
    "                             ).size().groupby(['unique_key']).count())"
   ]
  },
  {
   "cell_type": "code",
   "execution_count": 12,
   "metadata": {},
   "outputs": [],
   "source": [
    "num_authors = num_authors.rename(columns={0: 'num_authors'}).reset_index()"
   ]
  },
  {
   "cell_type": "code",
   "execution_count": 13,
   "metadata": {},
   "outputs": [],
   "source": [
    "df = pd.merge(df, num_authors, on=['unique_key'], how='inner')"
   ]
  },
  {
   "cell_type": "code",
   "execution_count": 14,
   "metadata": {},
   "outputs": [],
   "source": [
    "grouped = df.groupby(['unique_key', 'gender'], as_index=False\n",
    "                             ).count()"
   ]
  },
  {
   "cell_type": "code",
   "execution_count": 15,
   "metadata": {},
   "outputs": [],
   "source": [
    "def get_number_of_genders_per_article(df, grouped):\n",
    "    \n",
    "    for gender in ['female', 'male', 'mostly_female', 'mostly_male']:\n",
    "        gender_counts = grouped[grouped['gender'] == gender][['unique_key','title']]\n",
    "        gender_counts = gender_counts.rename(columns={'title':'%s_count' % gender})\n",
    "        \n",
    "        df = pd.merge(df, gender_counts, on=['unique_key'], how='outer')\n",
    "    \n",
    "    df = df.fillna(0)\n",
    "    df['female_authors'] = df['female_count'] + df['mostly_female_count']\n",
    "    df['male_authors'] = df['male_count'] + df['mostly_male_count']\n",
    "        \n",
    "    return df"
   ]
  },
  {
   "cell_type": "code",
   "execution_count": 16,
   "metadata": {},
   "outputs": [],
   "source": [
    "df = get_number_of_genders_per_article(df, grouped)"
   ]
  },
  {
   "cell_type": "code",
   "execution_count": 17,
   "metadata": {},
   "outputs": [],
   "source": [
    "def get_female_ratio(row):\n",
    "    return row['female_authors'] / row['num_authors']\n",
    "def get_male_ratio(row):\n",
    "    return row['male_authors'] / row['num_authors']"
   ]
  },
  {
   "cell_type": "code",
   "execution_count": 18,
   "metadata": {},
   "outputs": [],
   "source": [
    "df = df[~(df['num_authors'] == 0)]"
   ]
  },
  {
   "cell_type": "code",
   "execution_count": 19,
   "metadata": {},
   "outputs": [],
   "source": [
    "df[\"female_ratio\"] = df.apply(\n",
    "    get_female_ratio, axis=1\n",
    ")"
   ]
  },
  {
   "cell_type": "code",
   "execution_count": 20,
   "metadata": {},
   "outputs": [],
   "source": [
    "df[\"male_ratio\"] = df.apply(\n",
    "    get_male_ratio, axis=1\n",
    ")"
   ]
  },
  {
   "cell_type": "code",
   "execution_count": 21,
   "metadata": {},
   "outputs": [
    {
     "data": {
      "text/plain": [
       "count    30125.000000\n",
       "mean         0.287867\n",
       "std          0.307164\n",
       "min          0.000000\n",
       "25%          0.000000\n",
       "50%          0.250000\n",
       "75%          0.500000\n",
       "max          1.000000\n",
       "Name: female_ratio, dtype: float64"
      ]
     },
     "execution_count": 21,
     "metadata": {},
     "output_type": "execute_result"
    }
   ],
   "source": [
    "df[\"female_ratio\"].describe()"
   ]
  },
  {
   "cell_type": "code",
   "execution_count": 22,
   "metadata": {},
   "outputs": [
    {
     "data": {
      "text/plain": [
       "count    30125.000000\n",
       "mean         0.239967\n",
       "std          0.291851\n",
       "min          0.000000\n",
       "25%          0.000000\n",
       "50%          0.166667\n",
       "75%          0.400000\n",
       "max          1.000000\n",
       "Name: male_ratio, dtype: float64"
      ]
     },
     "execution_count": 22,
     "metadata": {},
     "output_type": "execute_result"
    }
   ],
   "source": [
    "df[\"male_ratio\"].describe()"
   ]
  },
  {
   "cell_type": "code",
   "execution_count": 23,
   "metadata": {},
   "outputs": [],
   "source": [
    "color = matplotlib.cm.plasma(np.linspace(0, 1, 1))"
   ]
  },
  {
   "cell_type": "code",
   "execution_count": 24,
   "metadata": {},
   "outputs": [],
   "source": [
    "papers = df.drop_duplicates(subset='unique_key', keep=\"last\")"
   ]
  },
  {
   "cell_type": "code",
   "execution_count": 28,
   "metadata": {},
   "outputs": [
    {
     "data": {
      "image/png": "[encoded data removed]",
      "text/plain": [
       "<Figure size 432x288 with 1 Axes>"
      ]
     },
     "metadata": {},
     "output_type": "display_data"
    }
   ],
   "source": [
    "fig, ax = plt.subplots();\n",
    "plt.title('Females Ratio Distribution in Psychology')\n",
    "\n",
    "weights = np.ones_like(papers['female_ratio']) / float(len(papers['female_ratio']))\n",
    "ax.hist(papers['female_ratio'], color=color, weights=weights);\n",
    "ax.axvline(np.mean(papers['female_ratio']), c='red',\n",
    "           label =\"mean = %s\" %round(np.mean(papers['female_ratio']), 3),\n",
    "           linestyle='--', linewidth=3);\n",
    "\n",
    "plt.legend();\n",
    "\n",
    "plt.savefig('../src/www/Nikoleta-v3.github.io/assets/images/female_ratio_distribution_psychology.png')"
   ]
  },
  {
   "cell_type": "code",
   "execution_count": 30,
   "metadata": {},
   "outputs": [
    {
     "data": {
      "image/png": "[encoded data removed]",
      "text/plain": [
       "<Figure size 432x288 with 1 Axes>"
      ]
     },
     "metadata": {},
     "output_type": "display_data"
    }
   ],
   "source": [
    "fig, ax = plt.subplots();\n",
    "plt.title('Males Ratio Distribution in Psychology')\n",
    "\n",
    "weights = np.ones_like(papers['male_ratio']) / float(len(papers['male_ratio']))\n",
    "ax.hist(papers['male_ratio'], color=color, weights=weights);\n",
    "ax.axvline(np.mean(papers['male_ratio']), c='red',\n",
    "           label =\"mean = %s\" %round(np.mean(papers['male_ratio']), 3),\n",
    "           linestyle='--', linewidth=3);\n",
    "\n",
    "plt.legend();\n",
    "\n",
    "plt.savefig('../src/www/Nikoleta-v3.github.io/assets/images/male_ratio_distribution_psychology.png')"
   ]
  },
  {
   "cell_type": "code",
   "execution_count": 31,
   "metadata": {},
   "outputs": [],
   "source": [
    "df = df.drop(columns=['index', \"female_count\", \"male_count\", \"mostly_female_count\", \"mostly_male_count\"])"
   ]
  },
  {
   "cell_type": "code",
   "execution_count": 32,
   "metadata": {},
   "outputs": [],
   "source": [
    "df.to_csv('WiM_data/publications_in_psychology.csv')"
   ]
  }
 ],
 "metadata": {
  "kernelspec": {
   "display_name": "arcas",
   "language": "python",
   "name": "arcas"
  },
  "language_info": {
   "codemirror_mode": {
    "name": "ipython",
    "version": 3
   },
   "file_extension": ".py",
   "mimetype": "text/x-python",
   "name": "python",
   "nbconvert_exporter": "python",
   "pygments_lexer": "ipython3",
   "version": "3.6.6"
  }
 },
 "nbformat": 4,
 "nbformat_minor": 2
}
