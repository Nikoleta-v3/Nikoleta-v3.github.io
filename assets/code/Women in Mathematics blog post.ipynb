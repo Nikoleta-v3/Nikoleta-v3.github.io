{
 "cells": [
  {
   "cell_type": "code",
   "execution_count": 1,
   "metadata": {},
   "outputs": [],
   "source": [
    "import pandas as pd\n",
    "\n",
    "import numpy as np"
   ]
  },
  {
   "cell_type": "code",
   "execution_count": 2,
   "metadata": {},
   "outputs": [],
   "source": [
    "from scipy.stats import gaussian_kde\n",
    "import scipy.stats as stats"
   ]
  },
  {
   "cell_type": "code",
   "execution_count": 3,
   "metadata": {},
   "outputs": [],
   "source": [
    "import matplotlib.pyplot as plt\n",
    "import gender_guesser.detector as gender\n",
    "import matplotlib\n",
    "\n",
    "%matplotlib inline"
   ]
  },
  {
   "cell_type": "code",
   "execution_count": 4,
   "metadata": {},
   "outputs": [],
   "source": [
    "font = {\"size\": 10, \"weight\": \"bold\"}\n",
    "matplotlib.rc(\"font\", **font)"
   ]
  },
  {
   "cell_type": "markdown",
   "metadata": {},
   "source": [
    "**Analysis**"
   ]
  },
  {
   "cell_type": "code",
   "execution_count": 9,
   "metadata": {},
   "outputs": [],
   "source": [
    "df = pd.read_csv('WiM_data/publications_in_mathematics.csv', index_col=0)"
   ]
  },
  {
   "cell_type": "markdown",
   "metadata": {},
   "source": [
    "Total number of articles we have collected are:"
   ]
  },
  {
   "cell_type": "code",
   "execution_count": 10,
   "metadata": {},
   "outputs": [
    {
     "data": {
      "text/plain": [
       "19280"
      ]
     },
     "execution_count": 10,
     "metadata": {},
     "output_type": "execute_result"
    }
   ],
   "source": [
    "len(df['unique_key'].unique())"
   ]
  },
  {
   "cell_type": "code",
   "execution_count": 11,
   "metadata": {},
   "outputs": [
    {
     "data": {
      "text/plain": [
       "27555"
      ]
     },
     "execution_count": 11,
     "metadata": {},
     "output_type": "execute_result"
    }
   ],
   "source": [
    "len(df['author'].unique())"
   ]
  },
  {
   "cell_type": "code",
   "execution_count": 12,
   "metadata": {},
   "outputs": [
    {
     "data": {
      "text/plain": [
       "Index(['index', 'unique_key', 'title', 'author', 'date', 'source'], dtype='object')"
      ]
     },
     "execution_count": 12,
     "metadata": {},
     "output_type": "execute_result"
    }
   ],
   "source": [
    "df.columns"
   ]
  },
  {
   "cell_type": "markdown",
   "metadata": {},
   "source": [
    "**Gender analysis**"
   ]
  },
  {
   "cell_type": "markdown",
   "metadata": {},
   "source": [
    "The library `gender_guesser` will be used to estimate the gender of the authors. Note that the result of the library will be one of:\n",
    "\n",
    "- unknown (name not found), \n",
    "- andy (androgynous),\n",
    "- male, \n",
    "- female,\n",
    "- mostly_male or\n",
    "- mostly_female.\n",
    "\n",
    "The difference between andy and unknown is that the former is found to have the same probability to be male than to be female, while the later means that the name wasn’t found in the database."
   ]
  },
  {
   "cell_type": "code",
   "execution_count": 13,
   "metadata": {},
   "outputs": [],
   "source": [
    "d = gender.Detector(case_sensitive=False)"
   ]
  },
  {
   "cell_type": "code",
   "execution_count": 14,
   "metadata": {},
   "outputs": [
    {
     "data": {
      "text/plain": [
       "'female'"
      ]
     },
     "execution_count": 14,
     "metadata": {},
     "output_type": "execute_result"
    }
   ],
   "source": [
    "d.get_gender('nikoleta')"
   ]
  },
  {
   "cell_type": "code",
   "execution_count": 15,
   "metadata": {},
   "outputs": [],
   "source": [
    "def get_gender_of_author(row):\n",
    "    if row['source'] == 'Springer':\n",
    "        return d.get_gender(row['author'].split(' ')[-1])\n",
    "    return d.get_gender(row['author'].split(' ')[0])"
   ]
  },
  {
   "cell_type": "code",
   "execution_count": 16,
   "metadata": {},
   "outputs": [],
   "source": [
    "df[\"gender\"] = df.apply(\n",
    "    get_gender_of_author, axis=1\n",
    ")"
   ]
  },
  {
   "cell_type": "code",
   "execution_count": 17,
   "metadata": {},
   "outputs": [],
   "source": [
    "gender = df[['author', 'gender']].drop_duplicates()"
   ]
  },
  {
   "cell_type": "code",
   "execution_count": 18,
   "metadata": {},
   "outputs": [
    {
     "data": {
      "text/html": [
       "<div>\n",
       "<style scoped>\n",
       "    .dataframe tbody tr th:only-of-type {\n",
       "        vertical-align: middle;\n",
       "    }\n",
       "\n",
       "    .dataframe tbody tr th {\n",
       "        vertical-align: top;\n",
       "    }\n",
       "\n",
       "    .dataframe thead th {\n",
       "        text-align: right;\n",
       "    }\n",
       "</style>\n",
       "<table border=\"1\" class=\"dataframe\">\n",
       "  <thead>\n",
       "    <tr style=\"text-align: right;\">\n",
       "      <th></th>\n",
       "      <th>author</th>\n",
       "    </tr>\n",
       "    <tr>\n",
       "      <th>gender</th>\n",
       "      <th></th>\n",
       "    </tr>\n",
       "  </thead>\n",
       "  <tbody>\n",
       "    <tr>\n",
       "      <th>mostly_female</th>\n",
       "      <td>186</td>\n",
       "    </tr>\n",
       "    <tr>\n",
       "      <th>mostly_male</th>\n",
       "      <td>482</td>\n",
       "    </tr>\n",
       "    <tr>\n",
       "      <th>female</th>\n",
       "      <td>2168</td>\n",
       "    </tr>\n",
       "    <tr>\n",
       "      <th>andy</th>\n",
       "      <td>3584</td>\n",
       "    </tr>\n",
       "    <tr>\n",
       "      <th>unknown</th>\n",
       "      <td>10144</td>\n",
       "    </tr>\n",
       "    <tr>\n",
       "      <th>male</th>\n",
       "      <td>10991</td>\n",
       "    </tr>\n",
       "  </tbody>\n",
       "</table>\n",
       "</div>"
      ],
      "text/plain": [
       "               author\n",
       "gender               \n",
       "mostly_female     186\n",
       "mostly_male       482\n",
       "female           2168\n",
       "andy             3584\n",
       "unknown         10144\n",
       "male            10991"
      ]
     },
     "execution_count": 18,
     "metadata": {},
     "output_type": "execute_result"
    }
   ],
   "source": [
    "pd.DataFrame(gender.groupby(\"gender\").count()['author'].sort_values())"
   ]
  },
  {
   "cell_type": "code",
   "execution_count": 19,
   "metadata": {},
   "outputs": [],
   "source": [
    "num_authors = pd.DataFrame(df.groupby(['unique_key', 'author'], as_index=False\n",
    "                             ).size().groupby(['unique_key']).count())"
   ]
  },
  {
   "cell_type": "code",
   "execution_count": 20,
   "metadata": {},
   "outputs": [],
   "source": [
    "num_authors = num_authors.rename(columns={0: 'num_authors'}).reset_index()"
   ]
  },
  {
   "cell_type": "code",
   "execution_count": 21,
   "metadata": {},
   "outputs": [],
   "source": [
    "df = pd.merge(df, num_authors, on=['unique_key'], how='inner')"
   ]
  },
  {
   "cell_type": "code",
   "execution_count": 22,
   "metadata": {},
   "outputs": [],
   "source": [
    "grouped = df.groupby(['unique_key', 'gender'], as_index=False\n",
    "                             ).count()"
   ]
  },
  {
   "cell_type": "code",
   "execution_count": 23,
   "metadata": {},
   "outputs": [
    {
     "data": {
      "text/plain": [
       "array([13, 14, 15, 18, 33])"
      ]
     },
     "execution_count": 23,
     "metadata": {},
     "output_type": "execute_result"
    }
   ],
   "source": [
    "df.num_authors.sort_values().unique()[-5:]"
   ]
  },
  {
   "cell_type": "code",
   "execution_count": 24,
   "metadata": {},
   "outputs": [],
   "source": [
    "key_to_drop = df[df.num_authors == 33].unique_key.unique()[0]"
   ]
  },
  {
   "cell_type": "code",
   "execution_count": 25,
   "metadata": {},
   "outputs": [],
   "source": [
    "df = df[~(df['unique_key'] == key_to_drop)]"
   ]
  },
  {
   "cell_type": "markdown",
   "metadata": {},
   "source": [
    "**Females**"
   ]
  },
  {
   "cell_type": "code",
   "execution_count": 26,
   "metadata": {},
   "outputs": [],
   "source": [
    "def get_number_of_genders_per_article(df, grouped):\n",
    "    \n",
    "    for gender in ['female', 'male', 'mostly_female', 'mostly_male']:\n",
    "        gender_counts = grouped[grouped['gender'] == gender][['unique_key','title']]\n",
    "        gender_counts = gender_counts.rename(columns={'title':'%s_count' % gender})\n",
    "        \n",
    "        df = pd.merge(df, gender_counts, on=['unique_key'], how='outer')\n",
    "    \n",
    "    df = df.fillna(0)\n",
    "    df['female_authors'] = df['female_count'] + df['mostly_female_count']\n",
    "    df['male_authors'] = df['male_count'] + df['mostly_male_count']\n",
    "        \n",
    "    return df"
   ]
  },
  {
   "cell_type": "code",
   "execution_count": 27,
   "metadata": {},
   "outputs": [],
   "source": [
    "df = get_number_of_genders_per_article(df, grouped)"
   ]
  },
  {
   "cell_type": "code",
   "execution_count": 28,
   "metadata": {},
   "outputs": [],
   "source": [
    "def get_female_ratio(row):\n",
    "    return row['female_authors'] / row['num_authors']\n",
    "def get_male_ratio(row):\n",
    "    return row['male_authors'] / row['num_authors']"
   ]
  },
  {
   "cell_type": "code",
   "execution_count": 29,
   "metadata": {},
   "outputs": [],
   "source": [
    "df = df[~(df['num_authors'] == 0)]"
   ]
  },
  {
   "cell_type": "code",
   "execution_count": 37,
   "metadata": {},
   "outputs": [],
   "source": [
    "papers = df.drop_duplicates(subset='unique_key', keep=\"last\")"
   ]
  },
  {
   "cell_type": "code",
   "execution_count": 38,
   "metadata": {},
   "outputs": [
    {
     "data": {
      "image/png": "[encoded data removed]",
      "text/plain": [
       "<Figure size 432x288 with 1 Axes>"
      ]
     },
     "metadata": {},
     "output_type": "display_data"
    }
   ],
   "source": [
    "fig, axes = plt.subplots()\n",
    "\n",
    "plt.plot(papers.groupby('date').mean()['female_authors'], '-o',\n",
    "         label='mean #female authors', color='red', linewidth=2);\n",
    "\n",
    "plt.legend();\n",
    "\n",
    "plt.savefig('../src/www/Nikoleta-v3.github.io/assets/images/number_of_authors_per_year.png')"
   ]
  },
  {
   "cell_type": "code",
   "execution_count": 39,
   "metadata": {},
   "outputs": [],
   "source": [
    "df[\"female_ratio\"] = df.apply(\n",
    "    get_female_ratio, axis=1\n",
    ")"
   ]
  },
  {
   "cell_type": "code",
   "execution_count": 40,
   "metadata": {},
   "outputs": [],
   "source": [
    "df[\"male_ratio\"] = df.apply(\n",
    "    get_male_ratio, axis=1\n",
    ")"
   ]
  },
  {
   "cell_type": "code",
   "execution_count": 41,
   "metadata": {},
   "outputs": [
    {
     "data": {
      "text/plain": [
       "count    37915.000000\n",
       "mean         0.076012\n",
       "std          0.197166\n",
       "min          0.000000\n",
       "25%          0.000000\n",
       "50%          0.000000\n",
       "75%          0.000000\n",
       "max          1.000000\n",
       "Name: female_ratio, dtype: float64"
      ]
     },
     "execution_count": 41,
     "metadata": {},
     "output_type": "execute_result"
    }
   ],
   "source": [
    "df['female_ratio'].describe()"
   ]
  },
  {
   "cell_type": "code",
   "execution_count": 42,
   "metadata": {},
   "outputs": [
    {
     "data": {
      "text/plain": [
       "count    19279.000000\n",
       "mean         0.072047\n",
       "std          0.210853\n",
       "min          0.000000\n",
       "25%          0.000000\n",
       "50%          0.000000\n",
       "75%          0.000000\n",
       "max          1.000000\n",
       "Name: female_ratio, dtype: float64"
      ]
     },
     "execution_count": 42,
     "metadata": {},
     "output_type": "execute_result"
    }
   ],
   "source": [
    "papers['female_ratio'].describe()"
   ]
  },
  {
   "cell_type": "code",
   "execution_count": 43,
   "metadata": {},
   "outputs": [
    {
     "data": {
      "text/plain": [
       "count    37915.000000\n",
       "mean         0.454754\n",
       "std          0.423284\n",
       "min          0.000000\n",
       "25%          0.000000\n",
       "50%          0.500000\n",
       "75%          1.000000\n",
       "max          1.000000\n",
       "Name: male_ratio, dtype: float64"
      ]
     },
     "execution_count": 43,
     "metadata": {},
     "output_type": "execute_result"
    }
   ],
   "source": [
    "df['male_ratio'].describe()"
   ]
  },
  {
   "cell_type": "code",
   "execution_count": 44,
   "metadata": {},
   "outputs": [
    {
     "data": {
      "text/plain": [
       "count    19279.000000\n",
       "mean         0.497612\n",
       "std          0.447760\n",
       "min          0.000000\n",
       "25%          0.000000\n",
       "50%          0.500000\n",
       "75%          1.000000\n",
       "max          1.000000\n",
       "Name: male_ratio, dtype: float64"
      ]
     },
     "execution_count": 44,
     "metadata": {},
     "output_type": "execute_result"
    }
   ],
   "source": [
    "papers['male_ratio'].describe()"
   ]
  },
  {
   "cell_type": "code",
   "execution_count": 45,
   "metadata": {},
   "outputs": [],
   "source": [
    "t_stat, p_val = stats.ttest_ind(df['female_ratio'], df['male_ratio'], equal_var=False)"
   ]
  },
  {
   "cell_type": "code",
   "execution_count": 46,
   "metadata": {},
   "outputs": [
    {
     "data": {
      "text/plain": [
       "0.0"
      ]
     },
     "execution_count": 46,
     "metadata": {},
     "output_type": "execute_result"
    }
   ],
   "source": [
    "p_val"
   ]
  },
  {
   "cell_type": "markdown",
   "metadata": {},
   "source": [
    "A small p-value (typically ≤ 0.05) indicates strong evidence against the null hypothesis, so you reject the null hypothesis."
   ]
  },
  {
   "cell_type": "code",
   "execution_count": 47,
   "metadata": {},
   "outputs": [],
   "source": [
    "color = matplotlib.cm.plasma(np.linspace(0, 1, 1))"
   ]
  },
  {
   "cell_type": "code",
   "execution_count": 53,
   "metadata": {},
   "outputs": [
    {
     "data": {
      "image/png": "[encoded data removed]",
      "text/plain": [
       "<Figure size 432x288 with 1 Axes>"
      ]
     },
     "metadata": {},
     "output_type": "display_data"
    }
   ],
   "source": [
    "fig, ax = plt.subplots();\n",
    "plt.title('Females Ratio Distribution')\n",
    "\n",
    "weights = np.ones_like(papers['female_ratio']) / float(len(papers['female_ratio']))\n",
    "ax.hist(papers['female_ratio'], color=color, weights=weights);\n",
    "ax.axvline(np.mean(papers['female_ratio']), c='red',\n",
    "           label =\"mean = %s\" %round(np.mean(papers['female_ratio']), 3),\n",
    "           linestyle='--', linewidth=3);\n",
    "\n",
    "plt.legend();\n",
    "\n",
    "plt.savefig('../src/www/Nikoleta-v3.github.io/assets/images/female_ratio_distribution.png')"
   ]
  },
  {
   "cell_type": "code",
   "execution_count": 65,
   "metadata": {},
   "outputs": [
    {
     "data": {
      "image/png": "[encoded data removed]",
      "text/plain": [
       "<Figure size 432x288 with 1 Axes>"
      ]
     },
     "metadata": {},
     "output_type": "display_data"
    }
   ],
   "source": [
    "fig, ax = plt.subplots();\n",
    "plt.title('Males Ratio Distribution')\n",
    "\n",
    "\n",
    "weights = np.ones_like(papers['male_ratio']) / float(len(papers['male_ratio']))\n",
    "ax.hist(papers['male_ratio'], color=color, weights=weights);\n",
    "ax.axvline(np.mean(papers['male_ratio']), c='red',\n",
    "           label =\"mean = %s\" %round(np.mean(papers['male_ratio']), 3),\n",
    "           linestyle='--', linewidth=3);\n",
    "\n",
    "plt.legend();\n",
    "\n",
    "ax.set_yticks(np.linspace(0, 1, 6))\n",
    "plt.savefig('../src/www/Nikoleta-v3.github.io/assets/images/male_ratio_distribution.png')"
   ]
  },
  {
   "cell_type": "markdown",
   "metadata": {},
   "source": [
    "**Same but removing zeros**"
   ]
  },
  {
   "cell_type": "code",
   "execution_count": 68,
   "metadata": {},
   "outputs": [
    {
     "data": {
      "image/png": "[encoded data removed]",
      "text/plain": [
       "<Figure size 432x288 with 1 Axes>"
      ]
     },
     "metadata": {},
     "output_type": "display_data"
    }
   ],
   "source": [
    "x = [val for val in papers['female_ratio'] if val !=0]\n",
    "\n",
    "fig, ax = plt.subplots();\n",
    "\n",
    "weights = np.ones_like(x) / float(len(x))\n",
    "plt.hist(x, color=color, weights=weights);\n",
    "\n",
    "plt.title('Females Ratio Distribution, excluding 0s')\n",
    "plt.axvline(np.mean(x), c='red',\n",
    "           label =\"mean = %s\" %round(np.mean(x), 3),\n",
    "           linestyle='--', linewidth=3);\n",
    "\n",
    "plt.legend();\n",
    "plt.savefig('../src/www/Nikoleta-v3.github.io/assets/images/female_ratio_distribution_excl_zeros.png')"
   ]
  },
  {
   "cell_type": "code",
   "execution_count": 80,
   "metadata": {},
   "outputs": [
    {
     "name": "stderr",
     "output_type": "stream",
     "text": [
      "/home/nightwing/anaconda3/envs/arcas/lib/python3.6/site-packages/matplotlib/axes/_axes.py:6571: UserWarning: The 'normed' kwarg is deprecated, and has been replaced by the 'density' kwarg.\n",
      "  warnings.warn(\"The 'normed' kwarg is deprecated, and has been \"\n"
     ]
    },
    {
     "data": {
      "image/png": "[encoded data removed]",
      "text/plain": [
       "<Figure size 432x288 with 1 Axes>"
      ]
     },
     "metadata": {},
     "output_type": "display_data"
    }
   ],
   "source": [
    "y = [val for val in papers['male_ratio'] if val !=0]\n",
    "\n",
    "fig, ax = plt.subplots();\n",
    "plt.hist(y, color=color, normed=True)\n",
    "plt.title('Males Ratio Distribution, excluding 0s')\n",
    "plt.axvline(np.mean(y), c='red',\n",
    "           label =\"mean = %s\" %round(np.mean(y), 3),\n",
    "           linestyle='--', linewidth=3);\n",
    "\n",
    "plt.legend();\n",
    "plt.savefig('../src/www/Nikoleta-v3.github.io/assets/images/male_ratio_distribution_excl_zeros.png')"
   ]
  },
  {
   "cell_type": "code",
   "execution_count": 99,
   "metadata": {},
   "outputs": [
    {
     "data": {
      "text/plain": [
       "True"
      ]
     },
     "execution_count": 99,
     "metadata": {},
     "output_type": "execute_result"
    }
   ],
   "source": [
    "t_stat, p_val = stats.ttest_ind(x, y, equal_var=False)\n",
    "p_val < 0.05"
   ]
  },
  {
   "cell_type": "code",
   "execution_count": 100,
   "metadata": {},
   "outputs": [],
   "source": [
    "with_female_ratio = papers[['female_ratio', 'date', 'num_authors']]"
   ]
  },
  {
   "cell_type": "code",
   "execution_count": 101,
   "metadata": {},
   "outputs": [],
   "source": [
    "with_male_ratio = papers[['male_ratio', 'date', 'num_authors']]"
   ]
  },
  {
   "cell_type": "code",
   "execution_count": 102,
   "metadata": {},
   "outputs": [],
   "source": [
    "without_zeros = with_female_ratio[with_female_ratio['female_ratio'] != 0]"
   ]
  },
  {
   "cell_type": "code",
   "execution_count": 103,
   "metadata": {},
   "outputs": [],
   "source": [
    "xy = np.vstack([without_zeros['num_authors'], without_zeros['female_ratio']])\n",
    "z = gaussian_kde(xy)(xy)"
   ]
  },
  {
   "cell_type": "code",
   "execution_count": 104,
   "metadata": {},
   "outputs": [
    {
     "data": {
      "image/png": "[encoded data removed]",
      "text/plain": [
       "<Figure size 432x288 with 2 Axes>"
      ]
     },
     "metadata": {},
     "output_type": "display_data"
    }
   ],
   "source": [
    "fig, ax = plt.subplots()\n",
    "\n",
    "plt.scatter(without_zeros['num_authors'], without_zeros['female_ratio'], c=z);\n",
    "plt.title('Female Ratio Over Number of authors')\n",
    "\n",
    "ax.set_xticks(range(1, 20, 2))\n",
    "ax.set_ylabel('Ratio')\n",
    "ax.set_xlabel('Number of authors')\n",
    "cbar = plt.colorbar();\n",
    "cbar.ax.get_yaxis().labelpad = 25\n",
    "cbar.set_label('Density of points', rotation=270)\n",
    "\n",
    "plt.savefig('../src/www/Nikoleta-v3.github.io/assets/images/scatter_plot_female_ratio_num_authors.png')"
   ]
  },
  {
   "cell_type": "code",
   "execution_count": 105,
   "metadata": {},
   "outputs": [],
   "source": [
    "without_zeros_males = with_male_ratio[with_male_ratio['male_ratio'] != 0]"
   ]
  },
  {
   "cell_type": "code",
   "execution_count": 106,
   "metadata": {},
   "outputs": [],
   "source": [
    "xy = np.vstack([without_zeros_males['num_authors'], without_zeros_males['male_ratio']])\n",
    "z = gaussian_kde(xy)(xy)"
   ]
  },
  {
   "cell_type": "code",
   "execution_count": 107,
   "metadata": {},
   "outputs": [
    {
     "data": {
      "image/png": "[encoded data removed]",
      "text/plain": [
       "<Figure size 432x288 with 2 Axes>"
      ]
     },
     "metadata": {},
     "output_type": "display_data"
    }
   ],
   "source": [
    "fig, ax = plt.subplots()\n",
    "\n",
    "ax.set_xticks(range(1, 20, 2))\n",
    "ax.set_ylabel('Ratio')\n",
    "ax.set_xlabel('Number of authors')\n",
    "\n",
    "plt.scatter(without_zeros_males['num_authors'], without_zeros_males['male_ratio'], c=z);\n",
    "plt.title('Male Ratio Over Number of authors')\n",
    "cbar = plt.colorbar();\n",
    "cbar.ax.get_yaxis().labelpad = 25\n",
    "cbar.set_label('Density of points', rotation=270)\n",
    "\n",
    "plt.savefig('../src/www/Nikoleta-v3.github.io/assets/images/scatter_plot_male_ratio_num_authors.png')"
   ]
  },
  {
   "cell_type": "code",
   "execution_count": 108,
   "metadata": {},
   "outputs": [],
   "source": [
    "total = papers[papers['female_ratio'] == 1].count().values[0]"
   ]
  },
  {
   "cell_type": "code",
   "execution_count": 122,
   "metadata": {},
   "outputs": [
    {
     "data": {
      "text/plain": [
       "num_authors\n",
       "1.0    457\n",
       "2.0    117\n",
       "3.0     12\n",
       "4.0      1\n",
       "7.0      1\n",
       "Name: index, dtype: int64"
      ]
     },
     "execution_count": 122,
     "metadata": {},
     "output_type": "execute_result"
    }
   ],
   "source": [
    "papers[papers['female_ratio'] == 1].groupby('num_authors').count()['index']"
   ]
  },
  {
   "cell_type": "code",
   "execution_count": 109,
   "metadata": {},
   "outputs": [
    {
     "data": {
      "text/plain": [
       "num_authors\n",
       "1.0    77.721088\n",
       "2.0    19.897959\n",
       "3.0     2.040816\n",
       "4.0     0.170068\n",
       "7.0     0.170068\n",
       "Name: index, dtype: float64"
      ]
     },
     "execution_count": 109,
     "metadata": {},
     "output_type": "execute_result"
    }
   ],
   "source": [
    "papers[papers['female_ratio'] == 1].groupby('num_authors').count()['index'] / total * 100"
   ]
  },
  {
   "cell_type": "code",
   "execution_count": 110,
   "metadata": {},
   "outputs": [
    {
     "data": {
      "text/plain": [
       "num_authors\n",
       "1.0    457\n",
       "2.0    117\n",
       "3.0     12\n",
       "4.0      1\n",
       "7.0      1\n",
       "Name: index, dtype: int64"
      ]
     },
     "execution_count": 110,
     "metadata": {},
     "output_type": "execute_result"
    }
   ],
   "source": [
    "papers[papers['female_ratio'] == 1].groupby('num_authors').count()['index']"
   ]
  },
  {
   "cell_type": "code",
   "execution_count": 111,
   "metadata": {},
   "outputs": [],
   "source": [
    "total = papers[papers['male_ratio'] == 1].count().values[0]"
   ]
  },
  {
   "cell_type": "code",
   "execution_count": 123,
   "metadata": {},
   "outputs": [
    {
     "data": {
      "text/plain": [
       "num_authors\n",
       "1.0    4545\n",
       "2.0    2244\n",
       "3.0     589\n",
       "4.0     125\n",
       "5.0      14\n",
       "6.0       7\n",
       "8.0       1\n",
       "Name: index, dtype: int64"
      ]
     },
     "execution_count": 123,
     "metadata": {},
     "output_type": "execute_result"
    }
   ],
   "source": [
    "papers[papers['male_ratio'] == 1].groupby('num_authors').count()['index']"
   ]
  },
  {
   "cell_type": "code",
   "execution_count": 112,
   "metadata": {
    "scrolled": true
   },
   "outputs": [
    {
     "data": {
      "text/plain": [
       "num_authors\n",
       "1.0    60.398671\n",
       "2.0    29.820598\n",
       "3.0     7.827243\n",
       "4.0     1.661130\n",
       "5.0     0.186047\n",
       "6.0     0.093023\n",
       "8.0     0.013289\n",
       "Name: index, dtype: float64"
      ]
     },
     "execution_count": 112,
     "metadata": {},
     "output_type": "execute_result"
    }
   ],
   "source": [
    "papers[papers['male_ratio'] == 1].groupby('num_authors').count()['index'] / total * 100"
   ]
  },
  {
   "cell_type": "code",
   "execution_count": 113,
   "metadata": {},
   "outputs": [
    {
     "data": {
      "text/plain": [
       "num_authors\n",
       "1.0    4545\n",
       "2.0    2244\n",
       "3.0     589\n",
       "4.0     125\n",
       "5.0      14\n",
       "6.0       7\n",
       "8.0       1\n",
       "Name: index, dtype: int64"
      ]
     },
     "execution_count": 113,
     "metadata": {},
     "output_type": "execute_result"
    }
   ],
   "source": [
    "papers[papers['male_ratio'] == 1].groupby('num_authors').count()['index']"
   ]
  },
  {
   "cell_type": "code",
   "execution_count": 114,
   "metadata": {},
   "outputs": [
    {
     "data": {
      "text/plain": [
       "array(['Modular invariants for genus 3 hyperelliptic curves'],\n",
       "      dtype=object)"
      ]
     },
     "execution_count": 114,
     "metadata": {},
     "output_type": "execute_result"
    }
   ],
   "source": [
    "papers[papers['unique_key'] == '01ba68386d723c3af56b171911aac3b2']['title'].values"
   ]
  },
  {
   "cell_type": "code",
   "execution_count": 115,
   "metadata": {},
   "outputs": [
    {
     "data": {
      "text/plain": [
       "count    2046.000000\n",
       "mean        0.513685\n",
       "std         0.245846\n",
       "min         0.066667\n",
       "25%         0.333333\n",
       "50%         0.500000\n",
       "75%         0.500000\n",
       "max         1.000000\n",
       "Name: female_ratio, dtype: float64"
      ]
     },
     "execution_count": 115,
     "metadata": {},
     "output_type": "execute_result"
    }
   ],
   "source": [
    "df[(df['source'] == 'arxiv') & (df['female_ratio'] != 0)]['female_ratio'].describe()"
   ]
  },
  {
   "cell_type": "code",
   "execution_count": 116,
   "metadata": {},
   "outputs": [
    {
     "data": {
      "text/plain": [
       "count    3899.000000\n",
       "mean        0.447038\n",
       "std         0.224128\n",
       "min         0.111111\n",
       "25%         0.333333\n",
       "50%         0.333333\n",
       "75%         0.500000\n",
       "max         1.000000\n",
       "Name: female_ratio, dtype: float64"
      ]
     },
     "execution_count": 116,
     "metadata": {},
     "output_type": "execute_result"
    }
   ],
   "source": [
    "df[(df['source'] == 'Springer') & (df['female_ratio'] != 0)]['female_ratio'].describe()"
   ]
  },
  {
   "cell_type": "code",
   "execution_count": 72,
   "metadata": {},
   "outputs": [],
   "source": [
    "df = df.drop(columns=['index', \"female_count\", \"male_count\", \"mostly_female_count\", \"mostly_male_count\"])"
   ]
  },
  {
   "cell_type": "code",
   "execution_count": 73,
   "metadata": {},
   "outputs": [],
   "source": [
    "df.to_csv('WiM_data/publications_in_mathematics.csv')"
   ]
  }
 ],
 "metadata": {
  "kernelspec": {
   "display_name": "arcas",
   "language": "python",
   "name": "arcas"
  },
  "language_info": {
   "codemirror_mode": {
    "name": "ipython",
    "version": 3
   },
   "file_extension": ".py",
   "mimetype": "text/x-python",
   "name": "python",
   "nbconvert_exporter": "python",
   "pygments_lexer": "ipython3",
   "version": "3.6.6"
  }
 },
 "nbformat": 4,
 "nbformat_minor": 2
}
