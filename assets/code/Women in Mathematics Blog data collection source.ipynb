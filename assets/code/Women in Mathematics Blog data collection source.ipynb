{
 "cells": [
  {
   "cell_type": "code",
   "execution_count": 1,
   "metadata": {},
   "outputs": [],
   "source": [
    "import arcas"
   ]
  },
  {
   "cell_type": "code",
   "execution_count": 2,
   "metadata": {},
   "outputs": [],
   "source": [
    "import pandas as pd\n",
    "import numpy as np"
   ]
  },
  {
   "cell_type": "code",
   "execution_count": 3,
   "metadata": {},
   "outputs": [],
   "source": [
    "import warnings\n",
    "warnings.filterwarnings('ignore')"
   ]
  },
  {
   "cell_type": "markdown",
   "metadata": {},
   "source": [
    "**ieee**"
   ]
  },
  {
   "cell_type": "code",
   "execution_count": 9,
   "metadata": {},
   "outputs": [],
   "source": [
    "category='Psychology' # or 'Mathematics'"
   ]
  },
  {
   "cell_type": "code",
   "execution_count": 10,
   "metadata": {},
   "outputs": [],
   "source": [
    "api = arcas.Ieee()"
   ]
  },
  {
   "cell_type": "code",
   "execution_count": 11,
   "metadata": {},
   "outputs": [],
   "source": [
    "parameters = api.parameters_fix(category=category, start=0, records=500)\n",
    "url = api.create_url_search(parameters)"
   ]
  },
  {
   "cell_type": "code",
   "execution_count": 13,
   "metadata": {},
   "outputs": [],
   "source": [
    "request = api.make_request(url)"
   ]
  },
  {
   "cell_type": "code",
   "execution_count": 14,
   "metadata": {},
   "outputs": [],
   "source": [
    "root = api.get_root(request)\n",
    "raw_article = api.parse(root)"
   ]
  },
  {
   "cell_type": "code",
   "execution_count": 15,
   "metadata": {},
   "outputs": [],
   "source": [
    "articles = []\n",
    "for art in raw_article:\n",
    "    article = api.to_dataframe(art)\n",
    "    articles.append(article)"
   ]
  },
  {
   "cell_type": "code",
   "execution_count": 16,
   "metadata": {},
   "outputs": [],
   "source": [
    "ieee = pd.concat(articles).reset_index()"
   ]
  },
  {
   "cell_type": "code",
   "execution_count": 17,
   "metadata": {},
   "outputs": [],
   "source": [
    "ieee.to_json('WiM_data/ieee_women_data_psychology.json')"
   ]
  },
  {
   "cell_type": "markdown",
   "metadata": {},
   "source": [
    "**Spinger**"
   ]
  },
  {
   "cell_type": "code",
   "execution_count": 4,
   "metadata": {},
   "outputs": [],
   "source": [
    "api = arcas.Springer()"
   ]
  },
  {
   "cell_type": "code",
   "execution_count": 6,
   "metadata": {},
   "outputs": [],
   "source": [
    "springer_num, springer_num_psy = 10000, 10000"
   ]
  },
  {
   "cell_type": "code",
   "execution_count": 8,
   "metadata": {},
   "outputs": [],
   "source": [
    "searches = {}\n",
    "for i, start in enumerate(range(0, springer_num_psy, 50)):\n",
    "    searches[i] = start"
   ]
  },
  {
   "cell_type": "code",
   "execution_count": 9,
   "metadata": {},
   "outputs": [],
   "source": [
    "num_searches = len(searches)"
   ]
  },
  {
   "cell_type": "code",
   "execution_count": 26,
   "metadata": {},
   "outputs": [],
   "source": [
    "for i in range(num_searches):\n",
    "    parameters = api.parameters_fix(category=category,\n",
    "                                    start=searhes[o],\n",
    "                                    records=50)\n",
    "\n",
    "\n",
    "    url = api.create_url_search(parameters)\n",
    "    request = api.make_request(url)\n",
    "    \n",
    "    root = api.get_root(request)\n",
    "    raw_article = api.parse(root)\n",
    "    \n",
    "    articles = []\n",
    "    for art in raw_article:\n",
    "        article = api.to_dataframe(art)\n",
    "        articles.append(article)\n",
    "        \n",
    "    articles = pd.concat(articles).reset_index()\n",
    "    articles.to_json('springer_women_data_psy_%s.json' % i)"
   ]
  },
  {
   "cell_type": "markdown",
   "metadata": {},
   "source": [
    "**Arxiv**"
   ]
  },
  {
   "cell_type": "code",
   "execution_count": 1,
   "metadata": {},
   "outputs": [],
   "source": [
    "fields = ['math.AG', 'math.AT', 'math.AP', 'math.CT', 'math.CA', 'math.CO', 'math.AC',\n",
    "          'math.CV', 'math.DG', 'math.DS', 'math.FA', 'math.GM', 'math.GN', 'math.GT',\n",
    "          'math.GR', 'math.HO', 'math.IT', 'math.KT', 'math.LO', 'math.MP', 'math.MP',\n",
    "          'math.MG', 'math.NT', 'math.NA', 'math.OA', 'math.OC', 'math.PR', 'math.QA',\n",
    "          'math.RT', 'math.RA', 'math.SP', 'math.ST', 'math.SG']"
   ]
  },
  {
   "cell_type": "code",
   "execution_count": null,
   "metadata": {},
   "outputs": [],
   "source": [
    "api = arcas.Arxiv()"
   ]
  },
  {
   "cell_type": "code",
   "execution_count": null,
   "metadata": {},
   "outputs": [],
   "source": [
    "for field in fields:\n",
    "    for start in [1, 100, 200]:\n",
    "        parameters = api.parameters_fix(category=field, start=start, records=100)\n",
    "        url = api.create_url_search(parameters)\n",
    "\n",
    "        request = api.make_request(url)\n",
    "\n",
    "        root = api.get_root(request)\n",
    "        raw_article = api.parse(root)\n",
    "\n",
    "        articles = []\n",
    "        for art in raw_article:\n",
    "            article = api.to_dataframe(art)\n",
    "            articles.append(article)\n",
    "\n",
    "        articles = pd.concat(articles).reset_index()\n",
    "        articles.to_json('WiM_data/arxiv_%s_%s.json' % (field, start))"
   ]
  }
 ],
 "metadata": {
  "kernelspec": {
   "display_name": "arcas",
   "language": "python",
   "name": "arcas"
  },
  "language_info": {
   "codemirror_mode": {
    "name": "ipython",
    "version": 3
   },
   "file_extension": ".py",
   "mimetype": "text/x-python",
   "name": "python",
   "nbconvert_exporter": "python",
   "pygments_lexer": "ipython3",
   "version": "3.6.6"
  }
 },
 "nbformat": 4,
 "nbformat_minor": 2
}
